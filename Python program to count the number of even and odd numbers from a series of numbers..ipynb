{
 "cells": [
  {
   "cell_type": "code",
   "execution_count": 6,
   "id": "44f0d919",
   "metadata": {},
   "outputs": [
    {
     "name": "stdout",
     "output_type": "stream",
     "text": [
      "Number of even numbers : 4\n",
      "Number of odd numbers : 5\n"
     ]
    }
   ],
   "source": [
    "numbers = (1, 2, 3, 4, 5, 6, 7, 8,9) # Declaring the tuple\n",
    "count_odd = 0\n",
    "count_even = 0\n",
    "for x in numbers:\n",
    "        if not x % 2:\n",
    "    \t     count_even+=1\n",
    "        else:\n",
    "    \t     count_odd+=1\n",
    "print(\"Number of even numbers :\",count_even)\n",
    "print(\"Number of odd numbers :\",count_odd)"
   ]
  },
  {
   "cell_type": "code",
   "execution_count": 4,
   "id": "4d1d5090",
   "metadata": {},
   "outputs": [
    {
     "name": "stdout",
     "output_type": "stream",
     "text": [
      "1  is odd\n",
      "2  is even\n",
      "3  is odd\n",
      "4  is even\n",
      "5  is odd\n",
      "6  is even\n",
      "7  is odd\n",
      "8  is even\n",
      "9  is odd\n",
      "Count of even numbers 4\n",
      "Count of odd numbers 5\n"
     ]
    }
   ],
   "source": [
    "even_count=0\n",
    "odd_count=0\n",
    "list=[1,2,3,4,5,6,7,8,9]\n",
    "for number in list:\n",
    "    if number%2==0:\n",
    "        print(number,\" is even\")\n",
    "        even_count=even_count+1\n",
    "    else:\n",
    "        print(number, \" is odd\")\n",
    "        odd_count=odd_count+1\n",
    "\n",
    "print(\"Count of even numbers\",even_count)\n",
    "print(\"Count of odd numbers\",odd_count)"
   ]
  },
  {
   "cell_type": "code",
   "execution_count": null,
   "id": "60662742",
   "metadata": {},
   "outputs": [],
   "source": []
  }
 ],
 "metadata": {
  "kernelspec": {
   "display_name": "Python 3 (ipykernel)",
   "language": "python",
   "name": "python3"
  },
  "language_info": {
   "codemirror_mode": {
    "name": "ipython",
    "version": 3
   },
   "file_extension": ".py",
   "mimetype": "text/x-python",
   "name": "python",
   "nbconvert_exporter": "python",
   "pygments_lexer": "ipython3",
   "version": "3.9.7"
  }
 },
 "nbformat": 4,
 "nbformat_minor": 5
}
